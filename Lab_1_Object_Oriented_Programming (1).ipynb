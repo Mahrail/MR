{
 "cells": [
  {
   "cell_type": "markdown",
   "id": "4997795d",
   "metadata": {},
   "source": [
    "# Lab 1: Object Oriented Programming (OOP)\n",
    "In this lab, we'll be reviewing the basics of Python Object Oriented Programming (OOP): Classes, Subclasses, Parameters and Methods.\n",
    "\n",
    "## Prompt\n",
    "\n",
    "Your friend is working on building an application to help students learn and understand shapes. She is currently working on a section showing the relationship between perimeter and area of regular shapes based on their side lengths. For clarity she would like printed values to have at most 2 decimal places."
   ]
  },
  {
   "cell_type": "markdown",
   "id": "0bb1a55a",
   "metadata": {},
   "source": [
    "## Functions\n",
    "\n",
    "Feel free to use any of these functions in your solution or add your own."
   ]
  },
  {
   "cell_type": "code",
   "execution_count": null,
   "id": "e7be4f85",
   "metadata": {},
   "outputs": [],
   "source": [
    "def Pi():\n",
    "    return 3.14159265358979"
   ]
  },
  {
   "cell_type": "markdown",
   "id": "ea87cc99",
   "metadata": {},
   "source": [
    "Your friend has built the Shape class to serve as the parent for each of the following classes: Circle, Triangle, and Square. "
   ]
  },
  {
   "cell_type": "code",
   "execution_count": null,
   "id": "0dea5e28",
   "metadata": {},
   "outputs": [],
   "source": [
    "class Shape:\n",
    "    Vertices: int or str\n",
    "    Side_Length: int or float or str\n",
    "    \n",
    "    def __init__(self, num_Vertex, side_Len):\n",
    "        try:\n",
    "            num_Vertex = int(num_Vertex)\n",
    "        except TypeError:\n",
    "            raise TypeError('invalid input type for shape number of vertices:', type(num_Vertex))\n",
    "        if type(side_Len) == str or type(side_Len) == int:\n",
    "            try:\n",
    "                side_Len = int(side_Len)\n",
    "            except ValueError:\n",
    "                pass\n",
    "        try:\n",
    "            side_Len = float(side_Len)\n",
    "        except TypeError:\n",
    "            raise TypeError('invalid input type for shape side length:', type(side_Len))\n",
    "        if (side_Len <= 0):\n",
    "            raise ValueError('invalid input for shape side length:', side_Len)\n",
    "        self.Vertices = num_Vertex\n",
    "        self.Side_Length = side_Len\n",
    "    \n",
    "    def Perimeter(self):\n",
    "        return round(self.Vertices * self.Side_Length, 2)"
   ]
  },
  {
   "cell_type": "markdown",
   "id": "437a3d05",
   "metadata": {},
   "source": [
    "Add a Circumference Method and an Area Method to the Circle class"
   ]
  },
  {
   "cell_type": "code",
   "execution_count": null,
   "id": "afd82376",
   "metadata": {},
   "outputs": [],
   "source": [
    "class Circle(Shape):\n",
    "    Radius: int or str\n",
    "    \n",
    "    def __init__(self, rad_Len):\n",
    "        if type(rad_Len) == str or type(rad_Len) == int:\n",
    "            try:\n",
    "                rad_Len = int(rad_Len)\n",
    "            except ValueError:\n",
    "                pass\n",
    "        try:\n",
    "            rad_Len = float(rad_Len)\n",
    "        except TypeError:\n",
    "            raise TypeError('invalid input type for shape side length:', type(rad_Len))\n",
    "        if (rad_Len <= 0):\n",
    "            raise ValueError('invalid input for shape side length:', rad_Len)\n",
    "        self.Vertices = 'infinite'\n",
    "        self.Side_Length = 0\n",
    "        self.Radius = rad_Len\n",
    "    \n",
    "    def Perimeter(self):\n",
    "        print(\"A circle's perimeter is called the circumference.\")\n",
    "        retrun self.Circumference()"
   ]
  },
  {
   "cell_type": "markdown",
   "id": "f9d669d4",
   "metadata": {},
   "source": [
    "After completing the Circle class. Perfom the following steps. \n",
    "* Initialize a Circle object called my_Circ. \n",
    "* Print all of my_Circ's non-zero parameters.\n",
    "* Print the output of calling my_Circ's Circumference Method\n",
    "* Print the output of calling my_Circ's Area Method"
   ]
  },
  {
   "cell_type": "code",
   "execution_count": null,
   "id": "3f3165a9",
   "metadata": {},
   "outputs": [],
   "source": []
  },
  {
   "cell_type": "markdown",
   "id": "6d51ed5b",
   "metadata": {},
   "source": [
    "Add an Area Method to the Triangle class."
   ]
  },
  {
   "cell_type": "code",
   "execution_count": null,
   "id": "609fbc54",
   "metadata": {},
   "outputs": [],
   "source": [
    "class Triangle(Shape):\n",
    "    \n",
    "    def __init__(self, side_Len):\n",
    "        if type(side_Len) == str or type(side_Len) == int:\n",
    "            try:\n",
    "                side_Len = int(side_Len)\n",
    "            except ValueError:\n",
    "                pass\n",
    "        try:\n",
    "            side_Len = float(side_Len)\n",
    "        except TypeError:\n",
    "            raise TypeError('invalid input type for shape side length:', type(side_Len))\n",
    "        if (side_Len <= 0):\n",
    "            raise ValueError('invalid input for shape side length:', side_Len)\n",
    "        self.Vertices = 3\n",
    "        self.Side_Length = side_Len"
   ]
  },
  {
   "cell_type": "markdown",
   "id": "666844a8",
   "metadata": {},
   "source": [
    "After completing the Triangle class. Perfom the following steps. \n",
    "* Initialize a Triangle object called my_Tri. \n",
    "* Print all of my_Tri's non-zero parameters.\n",
    "* Print the output of calling my_Tri's Perimeter Method.\n",
    "* Print the output of calling my_Tri's Area Method."
   ]
  },
  {
   "cell_type": "code",
   "execution_count": null,
   "id": "1876d6b4",
   "metadata": {},
   "outputs": [],
   "source": []
  },
  {
   "cell_type": "markdown",
   "id": "9158041b",
   "metadata": {},
   "source": [
    "Use the following cell to make the Square class."
   ]
  },
  {
   "cell_type": "code",
   "execution_count": null,
   "id": "a2c5bea7",
   "metadata": {},
   "outputs": [],
   "source": []
  },
  {
   "cell_type": "markdown",
   "id": "c13a5016",
   "metadata": {},
   "source": [
    "After completing the Square class. Execute the following cell."
   ]
  },
  {
   "cell_type": "code",
   "execution_count": null,
   "id": "18d06e66",
   "metadata": {},
   "outputs": [],
   "source": [
    "my_Square = Square(2)\n",
    "print(my_Square.Vertices)\n",
    "print(my_Square.Perimeter())\n",
    "print(my_Square.Area())\n",
    "my_Shape = Shape(4,2)\n",
    "my_Shape.Perimeter() == my_Square.Perimeter()"
   ]
  }
 ],
 "metadata": {
  "kernelspec": {
   "display_name": "Python 3 (ipykernel)",
   "language": "python",
   "name": "python3"
  },
  "language_info": {
   "codemirror_mode": {
    "name": "ipython",
    "version": 3
   },
   "file_extension": ".py",
   "mimetype": "text/x-python",
   "name": "python",
   "nbconvert_exporter": "python",
   "pygments_lexer": "ipython3",
   "version": "3.9.17"
  }
 },
 "nbformat": 4,
 "nbformat_minor": 5
}
